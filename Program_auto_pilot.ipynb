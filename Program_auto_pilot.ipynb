{
  "nbformat": 4,
  "nbformat_minor": 0,
  "metadata": {
    "colab": {
      "name": "Program auto pilot",
      "provenance": [],
      "collapsed_sections": []
    },
    "kernelspec": {
      "name": "python3",
      "display_name": "Python 3"
    }
  },
  "cells": [
    {
      "cell_type": "code",
      "metadata": {
        "id": "z65k-jElg8YR",
        "colab_type": "code",
        "outputId": "1ea5724b-e536-48b3-8c25-7a0aca54c748",
        "colab": {
          "base_uri": "https://localhost:8080/",
          "height": 106
        }
      },
      "source": [
        "!git clone https://github.com/kamhar-ngado/Track"
      ],
      "execution_count": 6,
      "outputs": [
        {
          "output_type": "stream",
          "text": [
            "Cloning into 'Track'...\n",
            "remote: Enumerating objects: 14206, done.\u001b[K\n",
            "remote: Total 14206 (delta 0), reused 0 (delta 0), pack-reused 14206\u001b[K\n",
            "Receiving objects: 100% (14206/14206), 178.23 MiB | 32.09 MiB/s, done.\n",
            "Checking out files: 100% (14512/14512), done.\n"
          ],
          "name": "stdout"
        }
      ]
    },
    {
      "cell_type": "code",
      "metadata": {
        "id": "bafn3gIJiO-V",
        "colab_type": "code",
        "outputId": "ffbed41a-315b-45e3-8a9d-04ad19d3bc0e",
        "colab": {
          "base_uri": "https://localhost:8080/",
          "height": 35
        }
      },
      "source": [
        "!ls Track"
      ],
      "execution_count": 7,
      "outputs": [
        {
          "output_type": "stream",
          "text": [
            "driving_log.csv  IMG\n"
          ],
          "name": "stdout"
        }
      ]
    },
    {
      "cell_type": "code",
      "metadata": {
        "id": "hMm61Rwdiga7",
        "colab_type": "code",
        "colab": {}
      },
      "source": [
        "import os\n",
        "import numpy as np\n",
        "import matplotlib.pyplot as plt\n",
        "import keras \n",
        "from keras.optimizers import Adam\n",
        "from keras.layers import Conv2D, MaxPooling2D, Dropout, Flatten, Dense\n",
        "import cv2\n",
        "import pandas as pd\n",
        "import ntpath\n",
        "import random"
      ],
      "execution_count": 0,
      "outputs": []
    },
    {
      "cell_type": "code",
      "metadata": {
        "id": "b_deQvJLkeFK",
        "colab_type": "code",
        "outputId": "569eb367-3815-4c04-8ccf-86262ccf889f",
        "colab": {
          "base_uri": "https://localhost:8080/",
          "height": 305
        }
      },
      "source": [
        "datadir = 'Track'\n",
        "colomns = ['center', 'left', 'right', 'steering', 'throttle', 'reverse', 'speed']\n",
        "data = pd.read_csv(os.path.join(datadir, 'driving_log.csv'), names = colomns)\n",
        "pd.set_option('display.max_colwidth', -1)\n",
        "data.head()"
      ],
      "execution_count": 13,
      "outputs": [
        {
          "output_type": "execute_result",
          "data": {
            "text/html": [
              "<div>\n",
              "<style scoped>\n",
              "    .dataframe tbody tr th:only-of-type {\n",
              "        vertical-align: middle;\n",
              "    }\n",
              "\n",
              "    .dataframe tbody tr th {\n",
              "        vertical-align: top;\n",
              "    }\n",
              "\n",
              "    .dataframe thead th {\n",
              "        text-align: right;\n",
              "    }\n",
              "</style>\n",
              "<table border=\"1\" class=\"dataframe\">\n",
              "  <thead>\n",
              "    <tr style=\"text-align: right;\">\n",
              "      <th></th>\n",
              "      <th>center</th>\n",
              "      <th>left</th>\n",
              "      <th>right</th>\n",
              "      <th>steering</th>\n",
              "      <th>throttle</th>\n",
              "      <th>reverse</th>\n",
              "      <th>speed</th>\n",
              "    </tr>\n",
              "  </thead>\n",
              "  <tbody>\n",
              "    <tr>\n",
              "      <th>0</th>\n",
              "      <td>C:\\self driving car simulator\\IMG\\center_2019_12_21_15_25_24_879.jpg</td>\n",
              "      <td>C:\\self driving car simulator\\IMG\\left_2019_12_21_15_25_24_879.jpg</td>\n",
              "      <td>C:\\self driving car simulator\\IMG\\right_2019_12_21_15_25_24_879.jpg</td>\n",
              "      <td>0.0</td>\n",
              "      <td>0.0</td>\n",
              "      <td>0.0</td>\n",
              "      <td>0.000078</td>\n",
              "    </tr>\n",
              "    <tr>\n",
              "      <th>1</th>\n",
              "      <td>C:\\self driving car simulator\\IMG\\center_2019_12_21_15_25_25_021.jpg</td>\n",
              "      <td>C:\\self driving car simulator\\IMG\\left_2019_12_21_15_25_25_021.jpg</td>\n",
              "      <td>C:\\self driving car simulator\\IMG\\right_2019_12_21_15_25_25_021.jpg</td>\n",
              "      <td>0.0</td>\n",
              "      <td>0.0</td>\n",
              "      <td>0.0</td>\n",
              "      <td>0.000084</td>\n",
              "    </tr>\n",
              "    <tr>\n",
              "      <th>2</th>\n",
              "      <td>C:\\self driving car simulator\\IMG\\center_2019_12_21_15_25_25_128.jpg</td>\n",
              "      <td>C:\\self driving car simulator\\IMG\\left_2019_12_21_15_25_25_128.jpg</td>\n",
              "      <td>C:\\self driving car simulator\\IMG\\right_2019_12_21_15_25_25_128.jpg</td>\n",
              "      <td>0.0</td>\n",
              "      <td>0.0</td>\n",
              "      <td>0.0</td>\n",
              "      <td>0.000078</td>\n",
              "    </tr>\n",
              "    <tr>\n",
              "      <th>3</th>\n",
              "      <td>C:\\self driving car simulator\\IMG\\center_2019_12_21_15_25_25_240.jpg</td>\n",
              "      <td>C:\\self driving car simulator\\IMG\\left_2019_12_21_15_25_25_240.jpg</td>\n",
              "      <td>C:\\self driving car simulator\\IMG\\right_2019_12_21_15_25_25_240.jpg</td>\n",
              "      <td>0.0</td>\n",
              "      <td>0.0</td>\n",
              "      <td>0.0</td>\n",
              "      <td>0.000078</td>\n",
              "    </tr>\n",
              "    <tr>\n",
              "      <th>4</th>\n",
              "      <td>C:\\self driving car simulator\\IMG\\center_2019_12_21_15_25_25_342.jpg</td>\n",
              "      <td>C:\\self driving car simulator\\IMG\\left_2019_12_21_15_25_25_342.jpg</td>\n",
              "      <td>C:\\self driving car simulator\\IMG\\right_2019_12_21_15_25_25_342.jpg</td>\n",
              "      <td>0.0</td>\n",
              "      <td>0.0</td>\n",
              "      <td>0.0</td>\n",
              "      <td>0.000080</td>\n",
              "    </tr>\n",
              "  </tbody>\n",
              "</table>\n",
              "</div>"
            ],
            "text/plain": [
              "                                                                 center  ...     speed\n",
              "0  C:\\self driving car simulator\\IMG\\center_2019_12_21_15_25_24_879.jpg  ...  0.000078\n",
              "1  C:\\self driving car simulator\\IMG\\center_2019_12_21_15_25_25_021.jpg  ...  0.000084\n",
              "2  C:\\self driving car simulator\\IMG\\center_2019_12_21_15_25_25_128.jpg  ...  0.000078\n",
              "3  C:\\self driving car simulator\\IMG\\center_2019_12_21_15_25_25_240.jpg  ...  0.000078\n",
              "4  C:\\self driving car simulator\\IMG\\center_2019_12_21_15_25_25_342.jpg  ...  0.000080\n",
              "\n",
              "[5 rows x 7 columns]"
            ]
          },
          "metadata": {
            "tags": []
          },
          "execution_count": 13
        }
      ]
    },
    {
      "cell_type": "code",
      "metadata": {
        "id": "CNWqUklVmxH_",
        "colab_type": "code",
        "outputId": "d19f6d37-11de-4643-dd40-9afdc2abeb93",
        "colab": {
          "base_uri": "https://localhost:8080/",
          "height": 200
        }
      },
      "source": [
        "def path_leaf(path):\n",
        "  head, tail = ntpath.split(path)\n",
        "  return tail\n",
        "data['center'] = data['center'].apply(path_leaf)\n",
        "data['left'] = data['left'].apply(path_leaf)\n",
        "data['right'] = data['right'].apply(path_leaf)\n",
        "data.head()"
      ],
      "execution_count": 14,
      "outputs": [
        {
          "output_type": "execute_result",
          "data": {
            "text/html": [
              "<div>\n",
              "<style scoped>\n",
              "    .dataframe tbody tr th:only-of-type {\n",
              "        vertical-align: middle;\n",
              "    }\n",
              "\n",
              "    .dataframe tbody tr th {\n",
              "        vertical-align: top;\n",
              "    }\n",
              "\n",
              "    .dataframe thead th {\n",
              "        text-align: right;\n",
              "    }\n",
              "</style>\n",
              "<table border=\"1\" class=\"dataframe\">\n",
              "  <thead>\n",
              "    <tr style=\"text-align: right;\">\n",
              "      <th></th>\n",
              "      <th>center</th>\n",
              "      <th>left</th>\n",
              "      <th>right</th>\n",
              "      <th>steering</th>\n",
              "      <th>throttle</th>\n",
              "      <th>reverse</th>\n",
              "      <th>speed</th>\n",
              "    </tr>\n",
              "  </thead>\n",
              "  <tbody>\n",
              "    <tr>\n",
              "      <th>0</th>\n",
              "      <td>center_2019_12_21_15_25_24_879.jpg</td>\n",
              "      <td>left_2019_12_21_15_25_24_879.jpg</td>\n",
              "      <td>right_2019_12_21_15_25_24_879.jpg</td>\n",
              "      <td>0.0</td>\n",
              "      <td>0.0</td>\n",
              "      <td>0.0</td>\n",
              "      <td>0.000078</td>\n",
              "    </tr>\n",
              "    <tr>\n",
              "      <th>1</th>\n",
              "      <td>center_2019_12_21_15_25_25_021.jpg</td>\n",
              "      <td>left_2019_12_21_15_25_25_021.jpg</td>\n",
              "      <td>right_2019_12_21_15_25_25_021.jpg</td>\n",
              "      <td>0.0</td>\n",
              "      <td>0.0</td>\n",
              "      <td>0.0</td>\n",
              "      <td>0.000084</td>\n",
              "    </tr>\n",
              "    <tr>\n",
              "      <th>2</th>\n",
              "      <td>center_2019_12_21_15_25_25_128.jpg</td>\n",
              "      <td>left_2019_12_21_15_25_25_128.jpg</td>\n",
              "      <td>right_2019_12_21_15_25_25_128.jpg</td>\n",
              "      <td>0.0</td>\n",
              "      <td>0.0</td>\n",
              "      <td>0.0</td>\n",
              "      <td>0.000078</td>\n",
              "    </tr>\n",
              "    <tr>\n",
              "      <th>3</th>\n",
              "      <td>center_2019_12_21_15_25_25_240.jpg</td>\n",
              "      <td>left_2019_12_21_15_25_25_240.jpg</td>\n",
              "      <td>right_2019_12_21_15_25_25_240.jpg</td>\n",
              "      <td>0.0</td>\n",
              "      <td>0.0</td>\n",
              "      <td>0.0</td>\n",
              "      <td>0.000078</td>\n",
              "    </tr>\n",
              "    <tr>\n",
              "      <th>4</th>\n",
              "      <td>center_2019_12_21_15_25_25_342.jpg</td>\n",
              "      <td>left_2019_12_21_15_25_25_342.jpg</td>\n",
              "      <td>right_2019_12_21_15_25_25_342.jpg</td>\n",
              "      <td>0.0</td>\n",
              "      <td>0.0</td>\n",
              "      <td>0.0</td>\n",
              "      <td>0.000080</td>\n",
              "    </tr>\n",
              "  </tbody>\n",
              "</table>\n",
              "</div>"
            ],
            "text/plain": [
              "                               center  ...     speed\n",
              "0  center_2019_12_21_15_25_24_879.jpg  ...  0.000078\n",
              "1  center_2019_12_21_15_25_25_021.jpg  ...  0.000084\n",
              "2  center_2019_12_21_15_25_25_128.jpg  ...  0.000078\n",
              "3  center_2019_12_21_15_25_25_240.jpg  ...  0.000078\n",
              "4  center_2019_12_21_15_25_25_342.jpg  ...  0.000080\n",
              "\n",
              "[5 rows x 7 columns]"
            ]
          },
          "metadata": {
            "tags": []
          },
          "execution_count": 14
        }
      ]
    },
    {
      "cell_type": "code",
      "metadata": {
        "id": "J3yDk2gQ-jrp",
        "colab_type": "code",
        "colab": {
          "base_uri": "https://localhost:8080/",
          "height": 283
        },
        "outputId": "c46c3c05-fede-4992-b8e3-2340e7f963cd"
      },
      "source": [
        "num_bins = 25\n",
        "hist, bins = np.histogram(data['steering'], num_bins)\n",
        "center = (bins[:-1]+ bins[1:]) * 0.5\n",
        "plt.bar(center, hist, width = 0.05)"
      ],
      "execution_count": 16,
      "outputs": [
        {
          "output_type": "execute_result",
          "data": {
            "text/plain": [
              "<BarContainer object of 25 artists>"
            ]
          },
          "metadata": {
            "tags": []
          },
          "execution_count": 16
        },
        {
          "output_type": "display_data",
          "data": {
            "image/png": "[encoded data removed]",
            "text/plain": [
              "<Figure size 432x288 with 1 Axes>"
            ]
          },
          "metadata": {
            "tags": []
          }
        }
      ]
    },
    {
      "cell_type": "code",
      "metadata": {
        "id": "jvrSGF36D0Zs",
        "colab_type": "code",
        "colab": {}
      },
      "source": [
        ""
      ],
      "execution_count": 0,
      "outputs": []
    }
  ]
}